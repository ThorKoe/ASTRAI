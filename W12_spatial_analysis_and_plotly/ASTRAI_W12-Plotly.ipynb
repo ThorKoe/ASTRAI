{
 "cells": [
  {
   "cell_type": "code",
   "execution_count": null,
   "id": "866b6075-621a-4026-95fa-ae8066d3b395",
   "metadata": {},
   "outputs": [],
   "source": [
    "import plotly.express as px\n",
    "\n",
    "# List the built-in datasets for demonstration, educational and test purposes\n",
    "print(dir(px.data))"
   ]
  },
  {
   "cell_type": "code",
   "execution_count": null,
   "id": "b73dbada-d1ba-4e4a-b27a-bfb69a32a6db",
   "metadata": {},
   "outputs": [],
   "source": [
    "df = px.data.tips()\n",
    "\n",
    "# List the columns of the data.tips()\n",
    "print(df.columns)"
   ]
  },
  {
   "cell_type": "code",
   "execution_count": null,
   "id": "19cda4df-a667-4a97-b3b6-ae8544b61371",
   "metadata": {},
   "outputs": [],
   "source": [
    "df = px.data.tips()\n",
    "\n",
    "# List the first 5 rows of the data.tips()\n",
    "print(df.head())"
   ]
  },
  {
   "cell_type": "code",
   "execution_count": null,
   "id": "46b11acd-074b-4e8d-b2b3-d95acb574308",
   "metadata": {},
   "outputs": [],
   "source": [
    "import plotly.express as px\n",
    "\n",
    "# Create a Data Set\n",
    "time_of_day = [\"6 AM\", \"7 AM\", \"8 AM\", \"9 AM\", \"10 AM\", \"11 AM\", \"12 PM\", \"1 PM\", \"2 PM\", \"3 PM\"]\n",
    "traffic_density = [30, 50, 75, 100, 90, 70, 60, 65, 80, 95]\n",
    "\n",
    "# Create Line Chart\n",
    "fig = px.line(x=time_of_day, y=traffic_density, \n",
    "              title=\"Traffic Density Over the Day\", \n",
    "              labels={\"x\": \"Time of Day\", \"y\": \"Traffic (%)\"})\n",
    "fig.show()"
   ]
  },
  {
   "cell_type": "code",
   "execution_count": null,
   "id": "b99ada0a-fe46-40fb-80e0-44fece9877bd",
   "metadata": {},
   "outputs": [],
   "source": [
    "import plotly.express as px\n",
    "\n",
    "# Example Data: cities and the numbers of passengers\n",
    "cities = [\"Berlin\", \"Hamburg\", \"Munich\", \"Frankfurt\", \"Cologne\"]\n",
    "passengers = [120, 95, 80, 70, 65]\n",
    "\n",
    "# Create bar chart\n",
    "fig = px.bar(x=cities, y=passengers, \n",
    "             title=\"Bus Passengers by City\", \n",
    "             labels={\"x\": \"City\", \"y\": \"Passengers (1000s)\"},\n",
    "             text=passengers)\n",
    "fig.show()"
   ]
  },
  {
   "cell_type": "code",
   "execution_count": null,
   "id": "ec8ad38c-26af-4c17-a9b6-be711644a7fa",
   "metadata": {},
   "outputs": [],
   "source": [
    "import plotly.express as px\n",
    "\n",
    "# Data sample:\n",
    "speeds = [30, 40, 50, 60, 70, 80, 90, 100]\n",
    "accident_rates = [2, 3, 5, 7, 10, 12, 15, 20]\n",
    "\n",
    "# Create a scatter plot\n",
    "fig = px.scatter(x=speeds, y=accident_rates, \n",
    "                 title=\"Accident Rate by Vehicle Speed\", \n",
    "                 labels={\"x\": \"Speed (km/h)\", \"y\": \"Accident Rate (%)\"},\n",
    "                 size=accident_rates, color=accident_rates)\n",
    "fig.show()"
   ]
  },
  {
   "cell_type": "code",
   "execution_count": null,
   "id": "3c694e59-1ec7-4360-9fe4-2a6384023f3d",
   "metadata": {},
   "outputs": [],
   "source": [
    "import plotly.express as px\n",
    "\n",
    "# Data Set\n",
    "transport_modes = [\"Bus\", \"Train\", \"Tram\", \"Bicycle\", \"Walking\"]\n",
    "usage_rates = [35, 30, 15, 10, 10]\n",
    "\n",
    "# Create pie chart\n",
    "fig = px.pie(names=transport_modes, values=usage_rates, \n",
    "             title=\"Public Transport Usage by Mode\")\n",
    "fig.show()"
   ]
  },
  {
   "cell_type": "code",
   "execution_count": null,
   "id": "ce21c7a4-33b4-4f94-927d-b401a3e75df5",
   "metadata": {},
   "outputs": [],
   "source": [
    "import plotly.express as px\n",
    "\n",
    "# Data set\n",
    "travel_times = [20, 22, 25, 27, 24, 23, 30, 28, 26, 25, 21, 29, 22, 24, 23, 25, 27, 26, 24, 25, \n",
    "                23, 28, 22, 26, 24, 21, 30, 29, 25, 27, 23, 24, 25, 28, 26, 22, 27, 23, 24, 29]\n",
    "\n",
    "# Create a histogram \n",
    "fig = px.histogram(x=travel_times, nbins=8, \n",
    "                   title=\"Distribution of Vehicle Travel Times\", \n",
    "                   labels={\"x\": \"Travel Time (minutes)\"},\n",
    "                   marginal=\"box\")  # Displays the box plot above the histogram\n",
    "fig.show()"
   ]
  },
  {
   "cell_type": "code",
   "execution_count": null,
   "id": "731bd88e-e54f-4c6e-b1b2-68f06974df2f",
   "metadata": {},
   "outputs": [],
   "source": [
    "import plotly.express as px\n",
    "\n",
    "# Example data: Bus stops\n",
    "locations = [(51.5074, -0.1278), (52.5200, 13.4050), (48.8566, 2.3522), (40.7128, -74.0060)]\n",
    "cities = [\"London\", \"Berlin\", \"Paris\", \"New York\"]\n",
    "\n",
    "# Scatter map\n",
    "fig = px.scatter_geo(locations, lat=[loc[0] for loc in locations], lon=[loc[1] for loc in locations],\n",
    "                     text=cities, title=\"Bus Stops Locations on the Map\")\n",
    "fig.show()"
   ]
  },
  {
   "cell_type": "code",
   "execution_count": null,
   "id": "91f9b20a-5e58-4c59-bef9-33f35730f07b",
   "metadata": {},
   "outputs": [],
   "source": [
    "import plotly.express as px\n",
    "\n",
    "# Example data: Traffic congestion levels (index values for different cities)\n",
    "cities = [\"London\", \"Berlin\", \"Paris\", \"New York\"]\n",
    "congestion_index = [70, 55, 60, 80]  # Higher value indicates more congestion\n",
    "locations = [\n",
    "    (51.5074, -0.1278),  # London\n",
    "    (52.5200, 13.4050),  # Berlin\n",
    "    (48.8566, 2.3522),   # Paris\n",
    "    (40.7128, -74.0060)  # New York\n",
    "]\n",
    "\n",
    "# Scatter map for traffic congestion\n",
    "fig = px.scatter_geo(\n",
    "    lat=[loc[0] for loc in locations],  # Latitude values\n",
    "    lon=[loc[1] for loc in locations],  # Longitude values\n",
    "    color=congestion_index,  # Congestion index for color\n",
    "    hover_name=cities,  # City names for hover info\n",
    "    color_continuous_scale=\"Reds\",  # Color scale\n",
    "    size=[index / 10 for index in congestion_index],  # Adjust size for better visualization\n",
    "    title=\"Traffic Congestion Levels by City\"\n",
    ")\n",
    "\n",
    "fig.update_geos(projection_type=\"natural earth\")\n",
    "fig.show()"
   ]
  },
  {
   "cell_type": "code",
   "execution_count": null,
   "id": "b3c20ae4-f9be-4f20-82fd-df6524f9f5f7",
   "metadata": {},
   "outputs": [],
   "source": [
    "import plotly.express as px\n",
    "\n",
    "# Example data: Traffic density (locations and intensity)\n",
    "locations = [(51.5074, -0.1278),  # London\n",
    "             (52.5200, 13.4050),  # Berlin\n",
    "             (48.8566, 2.3522),   # Paris\n",
    "             (40.7128, -74.0060), # New York\n",
    "             (34.0522, -118.2437),# Los Angeles\n",
    "             (41.8781, -87.6298)] # Chicago\n",
    "\n",
    "intensity = [10, 15, 12, 20, 25, 30]  # Traffic density values\n",
    "\n",
    "# Heatmap generation using Open Street Map\n",
    "fig = px.density_mapbox(lat=[loc[0] for loc in locations], \n",
    "                        lon=[loc[1] for loc in locations], \n",
    "                        z=intensity, \n",
    "                        radius=20, \n",
    "                        title=\"Traffic Density Heatmap\",\n",
    "                        mapbox_style=\"open-street-map\")  # Free, tokenless map style\n",
    "\n",
    "fig.show()"
   ]
  }
 ],
 "metadata": {
  "kernelspec": {
   "display_name": "Python 3 (ipykernel)",
   "language": "python",
   "name": "python3"
  },
  "language_info": {
   "codemirror_mode": {
    "name": "ipython",
    "version": 3
   },
   "file_extension": ".py",
   "mimetype": "text/x-python",
   "name": "python",
   "nbconvert_exporter": "python",
   "pygments_lexer": "ipython3",
   "version": "3.12.4"
  }
 },
 "nbformat": 4,
 "nbformat_minor": 5
}
